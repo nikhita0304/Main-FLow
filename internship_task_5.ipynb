{
  "cells": [
    {
      "cell_type": "markdown",
      "metadata": {
        "id": "view-in-github",
        "colab_type": "text"
      },
      "source": [
        "<a href=\"https://colab.research.google.com/github/nikhita0304/Main-FLow/blob/main/internship_task_5.ipynb\" target=\"_parent\"><img src=\"https://colab.research.google.com/assets/colab-badge.svg\" alt=\"Open In Colab\"/></a>"
      ]
    },
    {
      "cell_type": "code",
      "execution_count": null,
      "id": "d031b608",
      "metadata": {
        "id": "d031b608",
        "outputId": "3159a9c0-9520-4ab8-eaa6-d02b43ca280d"
      },
      "outputs": [
        {
          "name": "stdout",
          "output_type": "stream",
          "text": [
            "\n",
            "Dataset Information\n",
            "<class 'pandas.core.frame.DataFrame'>\n",
            "RangeIndex: 30 entries, 0 to 29\n",
            "Data columns (total 3 columns):\n",
            " #   Column          Non-Null Count  Dtype\n",
            "---  ------          --------------  -----\n",
            " 0   Study Hours     30 non-null     int64\n",
            " 1   Attendance (%)  30 non-null     int64\n",
            " 2   Pass            30 non-null     int64\n",
            "dtypes: int64(3)\n",
            "memory usage: 852.0 bytes\n",
            "Training samples: 24, Testing Samples 6\n",
            "Model Accuracy: 1.00\n",
            "\n",
            "Confusion Matrix:\n",
            "[[5 0]\n",
            " [0 1]]\n",
            "\n",
            "Classification Report:\n",
            "              precision    recall  f1-score   support\n",
            "\n",
            "           0       1.00      1.00      1.00         5\n",
            "           1       1.00      1.00      1.00         1\n",
            "\n",
            "    accuracy                           1.00         6\n",
            "   macro avg       1.00      1.00      1.00         6\n",
            "weighted avg       1.00      1.00      1.00         6\n",
            "\n"
          ]
        },
        {
          "data": {
            "image/png": "[encoded data removed]",
            "text/plain": [
              "<Figure size 600x400 with 2 Axes>"
            ]
          },
          "metadata": {},
          "output_type": "display_data"
        }
      ],
      "source": [
        "# Task 1: Student Pass/Fail Prediction\n",
        "\n",
        "import pandas as pd\n",
        "import numpy as np\n",
        "import matplotlib.pyplot as plt\n",
        "import seaborn as sns\n",
        "\n",
        "from sklearn.model_selection import train_test_split\n",
        "from sklearn.linear_model import LogisticRegression\n",
        "from sklearn.metrics import accuracy_score, confusion_matrix, classification_report\n",
        "\n",
        "df = pd.read_csv('student_performance_dataset.csv')\n",
        "df.head()\n",
        "df.isnull().sum()\n",
        "\n",
        "print(\"\\nDataset Information\")\n",
        "df.info()\n",
        "\n",
        "# Features (X) and target variable (y)\n",
        "X = df[['Study Hours', 'Attendance (%)']]\n",
        "y = df['Pass']\n",
        "\n",
        "# splitting data into training (80%) and testing (20%) sets\n",
        "X_train, X_test, y_train, y_test = train_test_split(X, y, test_size = 0.2, random_state= 42)\n",
        "print(f'Training samples: {X_train.shape[0]}, Testing Samples {X_test.shape[0]}')\n",
        "\n",
        "# Initialize and train the model\n",
        "model = LogisticRegression()\n",
        "model.fit(X_train, y_train)\n",
        "\n",
        "# Predictions\n",
        "y_pred = model.predict(X_test)\n",
        "\n",
        "# Accuracy\n",
        "accuracy = accuracy_score(y_test, y_pred)\n",
        "print(f'Model Accuracy: {accuracy:.2f}')\n",
        "\n",
        "# Confusion Matrix\n",
        "cm = confusion_matrix(y_test, y_pred)\n",
        "print(\"\\nConfusion Matrix:\")\n",
        "print(cm)\n",
        "\n",
        "# Classification Report\n",
        "print(\"\\nClassification Report:\")\n",
        "print(classification_report(y_test, y_pred))\n",
        "\n",
        "# Plot Confusion Matrix\n",
        "plt.figure(figsize = (6, 4))\n",
        "sns.heatmap(cm, annot = True, fmt = 'd', cmap = 'Blues', xticklabels = ['Fail', 'Pass'], yticklabels = ['Fail', 'Pass'])\n",
        "plt.xlabel(\"Predicted\")\n",
        "plt.ylabel(\"Actual\")\n",
        "plt.title(\"Confusion Matrix\")\n",
        "plt.show()\n"
      ]
    },
    {
      "cell_type": "code",
      "execution_count": null,
      "id": "0709bf0d",
      "metadata": {
        "id": "0709bf0d",
        "outputId": "67d03c49-8579-4853-bc83-ad6e52f57255"
      },
      "outputs": [
        {
          "name": "stderr",
          "output_type": "stream",
          "text": [
            "[nltk_data] Downloading package stopwords to\n",
            "[nltk_data]     C:\\Users\\selen\\AppData\\Roaming\\nltk_data...\n",
            "[nltk_data]   Package stopwords is already up-to-date!\n"
          ]
        },
        {
          "name": "stdout",
          "output_type": "stream",
          "text": [
            "First 5 rows of dataset\n",
            "                                         Review Text Sentiment\n",
            "0                  The product quality is excellent!  positive\n",
            "1      Worst customer service I've ever experienced.  negative\n",
            "2                   Very satisfied with my purchase.  positive\n",
            "3                               Not worth the money.  negative\n",
            "4  Delivery was quick and the item was well-packa...  positive\n",
            "\n",
            " Missing Values\n",
            "Review Text    0\n",
            "Sentiment      0\n",
            "dtype: int64\n",
            "\n",
            "Preprocessed Data:\n",
            "                                         Review Text  \\\n",
            "0                  The product quality is excellent!   \n",
            "1      Worst customer service I've ever experienced.   \n",
            "2                   Very satisfied with my purchase.   \n",
            "3                               Not worth the money.   \n",
            "4  Delivery was quick and the item was well-packa...   \n",
            "\n",
            "                            Cleaned_Review  \n",
            "0                product quality excellent  \n",
            "1  worst customer service ever experienced  \n",
            "2                       satisfied purchase  \n",
            "3                              worth money  \n",
            "4        delivery quick item well packaged  \n",
            "\n",
            "Training samples: 24, Testing samples: 6\n",
            "Model Accuracy: 0.33\n",
            "\n",
            " Classification Report:\n",
            "              precision    recall  f1-score   support\n",
            "\n",
            "           0       0.40      0.67      0.50         3\n",
            "           1       0.00      0.00      0.00         3\n",
            "\n",
            "    accuracy                           0.33         6\n",
            "   macro avg       0.20      0.33      0.25         6\n",
            "weighted avg       0.20      0.33      0.25         6\n",
            "\n"
          ]
        },
        {
          "data": {
            "image/png": "[encoded data removed]",
            "text/plain": [
              "<Figure size 640x480 with 2 Axes>"
            ]
          },
          "metadata": {},
          "output_type": "display_data"
        }
      ],
      "source": [
        "# Task-2\n",
        "# Sentiment Analysis with Natural Language Processing\n",
        "import nltk\n",
        "nltk.download('stopwords')\n",
        "\n",
        "import pandas as pd\n",
        "import numpy as np\n",
        "import re\n",
        "import seaborn as sns\n",
        "import matplotlib.pyplot as plt\n",
        "\n",
        "from nltk.corpus import stopwords\n",
        "from sklearn.feature_extraction.text import TfidfVectorizer\n",
        "from sklearn.model_selection import train_test_split\n",
        "from sklearn.linear_model import LogisticRegression\n",
        "from sklearn.metrics import accuracy_score, classification_report, confusion_matrix\n",
        "\n",
        "# load the dataset\n",
        "data = pd.read_csv('reviews_sample.csv')\n",
        "\n",
        "print(\"First 5 rows of dataset\")\n",
        "print(data.head())\n",
        "print(\"\\n Missing Values\")\n",
        "print(data.isnull().sum())\n",
        "stop_words = set(stopwords.words('english'))\n",
        "\n",
        "if data['Sentiment'].dtype =='object':\n",
        "    data['Sentiment'] = data['Sentiment'].str.lower().map({'positive': 1, 'negative': 0})\n",
        "\n",
        "\n",
        "def preprocess_text(text):\n",
        "    text = re.sub(r'\\W', ' ', text)         # Remove non-word characters\n",
        "    text = text.lower()                     # Convert to lowercase\n",
        "    words = text.split()                    # Split into words\n",
        "    words = [word for word in words if word not in stop_words]  # Remove stopwords & stem\n",
        "    return ' '.join(words)\n",
        "\n",
        "# Apply preprocession\n",
        "data ['Cleaned_Review'] = data['Review Text'].apply(preprocess_text)\n",
        "print(\"\\nPreprocessed Data:\")\n",
        "print(data[['Review Text', 'Cleaned_Review']].head())\n",
        "\n",
        "# Convert texxt to numerical format using TF-idf\n",
        "vectorizer = TfidfVectorizer(max_features=1000)\n",
        "X = vectorizer.fit_transform(data['Cleaned_Review']).toarray()\n",
        "y = data['Sentiment']\n",
        "\n",
        "# Split data into training and testing sets\n",
        "X_train, X_test, y_train, y_test = train_test_split( X, y, test_size=0.2, stratify=y, random_state=42)\n",
        "print(f\"\\nTraining samples: {X_train.shape[0]}, Testing samples: {X_test.shape[0]}\")\n",
        "\n",
        "# Train the model\n",
        "model = LogisticRegression(max_iter=1000)\n",
        "model.fit(X_train, y_train)\n",
        "\n",
        "# Make predictions\n",
        "y_pred = model.predict(X_test)\n",
        "\n",
        "# Print accuracy\n",
        "accuracy = accuracy_score(y_test, y_pred)\n",
        "print(f\"Model Accuracy: {accuracy:.2f}\")\n",
        "\n",
        "# Classification Report\n",
        "print(\"\\n Classification Report:\")\n",
        "print(classification_report(y_test, y_pred, zero_division=0))\n",
        "\n",
        "cm = confusion_matrix(y_test, y_pred)\n",
        "sns.heatmap(cm, annot=True, fmt='d', xticklabels=['Negative', 'Positive'], yticklabels=['Negative', 'Positive'])\n",
        "plt.xlabel('Predicted')\n",
        "plt.ylabel('Actual')\n",
        "plt.title('Confusion Matrix')\n",
        "plt.show()\n"
      ]
    }
  ],
  "metadata": {
    "kernelspec": {
      "display_name": "base",
      "language": "python",
      "name": "python3"
    },
    "language_info": {
      "codemirror_mode": {
        "name": "ipython",
        "version": 3
      },
      "file_extension": ".py",
      "mimetype": "text/x-python",
      "name": "python",
      "nbconvert_exporter": "python",
      "pygments_lexer": "ipython3",
      "version": "3.12.7"
    },
    "colab": {
      "provenance": [],
      "include_colab_link": true
    }
  },
  "nbformat": 4,
  "nbformat_minor": 5
}