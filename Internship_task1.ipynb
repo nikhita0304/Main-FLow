{
  "nbformat": 4,
  "nbformat_minor": 0,
  "metadata": {
    "colab": {
      "provenance": []
    },
    "kernelspec": {
      "name": "python3",
      "display_name": "Python 3"
    },
    "language_info": {
      "name": "python"
    }
  },
  "cells": [
    {
      "cell_type": "markdown",
      "source": [
        "## Loading the required librariries such as Pandas, Numpy, Matplotlib and Seaborn"
      ],
      "metadata": {
        "id": "5WIWL20GFVRp"
      }
    },
    {
      "cell_type": "code",
      "execution_count": null,
      "metadata": {
        "id": "aKLTan_p4vHD"
      },
      "outputs": [],
      "source": [
        "import pandas as pd\n",
        "import numpy as np\n",
        "import matplotlib.pyplot as plt\n",
        "import seaborn as sns"
      ]
    },
    {
      "cell_type": "markdown",
      "source": [
        "## a. Data Loading"
      ],
      "metadata": {
        "id": "0rE6208LFeD1"
      }
    },
    {
      "cell_type": "code",
      "source": [
        "from google.colab import drive\n",
        "drive.mount('/content/drive')"
      ],
      "metadata": {
        "colab": {
          "base_uri": "https://localhost:8080/"
        },
        "id": "aSzWLXwj_YU4",
        "outputId": "9d6ea43e-dca9-4e2d-bfcc-7a706e69dfbc"
      },
      "execution_count": null,
      "outputs": [
        {
          "output_type": "stream",
          "name": "stdout",
          "text": [
            "Mounted at /content/drive\n"
          ]
        }
      ]
    },
    {
      "cell_type": "code",
      "source": [
        "data = pd.read_csv('/content/drive/MyDrive/student-mat.csv',delimiter=';')"
      ],
      "metadata": {
        "id": "18mp8IDk_mpF"
      },
      "execution_count": null,
      "outputs": []
    },
    {
      "cell_type": "code",
      "source": [
        "print(data.head())"
      ],
      "metadata": {
        "colab": {
          "base_uri": "https://localhost:8080/"
        },
        "id": "A-sBHc2PAbX6",
        "outputId": "133974de-ff89-4290-e1d4-08e888f84d8e"
      },
      "execution_count": null,
      "outputs": [
        {
          "output_type": "stream",
          "name": "stdout",
          "text": [
            "  school sex  age address famsize Pstatus  Medu  Fedu     Mjob      Fjob  ...  \\\n",
            "0     GP   F   18       U     GT3       A     4     4  at_home   teacher  ...   \n",
            "1     GP   F   17       U     GT3       T     1     1  at_home     other  ...   \n",
            "2     GP   F   15       U     LE3       T     1     1  at_home     other  ...   \n",
            "3     GP   F   15       U     GT3       T     4     2   health  services  ...   \n",
            "4     GP   F   16       U     GT3       T     3     3    other     other  ...   \n",
            "\n",
            "  famrel freetime  goout  Dalc  Walc health absences  G1  G2  G3  \n",
            "0      4        3      4     1     1      3        6   5   6   6  \n",
            "1      5        3      3     1     1      3        4   5   5   6  \n",
            "2      4        3      2     2     3      3       10   7   8  10  \n",
            "3      3        2      2     1     1      5        2  15  14  15  \n",
            "4      4        3      2     1     2      5        4   6  10  10  \n",
            "\n",
            "[5 rows x 33 columns]\n"
          ]
        }
      ]
    },
    {
      "cell_type": "code",
      "source": [
        "print(data.tail())"
      ],
      "metadata": {
        "colab": {
          "base_uri": "https://localhost:8080/"
        },
        "id": "USKtX_ddAoXz",
        "outputId": "d8f1ce57-2e6d-43b0-bfd2-5be2bbc0b892"
      },
      "execution_count": null,
      "outputs": [
        {
          "output_type": "stream",
          "name": "stdout",
          "text": [
            "    school sex  age address famsize Pstatus  Medu  Fedu      Mjob      Fjob  \\\n",
            "390     MS   M   20       U     LE3       A     2     2  services  services   \n",
            "391     MS   M   17       U     LE3       T     3     1  services  services   \n",
            "392     MS   M   21       R     GT3       T     1     1     other     other   \n",
            "393     MS   M   18       R     LE3       T     3     2  services     other   \n",
            "394     MS   M   19       U     LE3       T     1     1     other   at_home   \n",
            "\n",
            "     ... famrel freetime  goout  Dalc  Walc health absences  G1  G2  G3  \n",
            "390  ...      5        5      4     4     5      4       11   9   9   9  \n",
            "391  ...      2        4      5     3     4      2        3  14  16  16  \n",
            "392  ...      5        5      3     3     3      3        3  10   8   7  \n",
            "393  ...      4        4      1     3     4      5        0  11  12  10  \n",
            "394  ...      3        2      3     3     3      5        5   8   9   9  \n",
            "\n",
            "[5 rows x 33 columns]\n"
          ]
        }
      ]
    },
    {
      "cell_type": "markdown",
      "source": [
        "## b. Data Exploration"
      ],
      "metadata": {
        "id": "2ehSb0vNFzwh"
      }
    },
    {
      "cell_type": "code",
      "source": [
        "print(data.isnull().sum())\n"
      ],
      "metadata": {
        "colab": {
          "base_uri": "https://localhost:8080/"
        },
        "id": "Uvs8w5eCA2KZ",
        "outputId": "692d9ad0-8999-435f-b191-06d468ff47f2"
      },
      "execution_count": null,
      "outputs": [
        {
          "output_type": "stream",
          "name": "stdout",
          "text": [
            "school        0\n",
            "sex           0\n",
            "age           0\n",
            "address       0\n",
            "famsize       0\n",
            "Pstatus       0\n",
            "Medu          0\n",
            "Fedu          0\n",
            "Mjob          0\n",
            "Fjob          0\n",
            "reason        0\n",
            "guardian      0\n",
            "traveltime    0\n",
            "studytime     0\n",
            "failures      0\n",
            "schoolsup     0\n",
            "famsup        0\n",
            "paid          0\n",
            "activities    0\n",
            "nursery       0\n",
            "higher        0\n",
            "internet      0\n",
            "romantic      0\n",
            "famrel        0\n",
            "freetime      0\n",
            "goout         0\n",
            "Dalc          0\n",
            "Walc          0\n",
            "health        0\n",
            "absences      0\n",
            "G1            0\n",
            "G2            0\n",
            "G3            0\n",
            "dtype: int64\n"
          ]
        }
      ]
    },
    {
      "cell_type": "code",
      "source": [
        "print(data.dtypes)"
      ],
      "metadata": {
        "colab": {
          "base_uri": "https://localhost:8080/"
        },
        "id": "HHzTg_nwBRUw",
        "outputId": "94694a5b-d85e-48c8-b58d-0a9695a906a6"
      },
      "execution_count": null,
      "outputs": [
        {
          "output_type": "stream",
          "name": "stdout",
          "text": [
            "school        object\n",
            "sex           object\n",
            "age            int64\n",
            "address       object\n",
            "famsize       object\n",
            "Pstatus       object\n",
            "Medu           int64\n",
            "Fedu           int64\n",
            "Mjob          object\n",
            "Fjob          object\n",
            "reason        object\n",
            "guardian      object\n",
            "traveltime     int64\n",
            "studytime      int64\n",
            "failures       int64\n",
            "schoolsup     object\n",
            "famsup        object\n",
            "paid          object\n",
            "activities    object\n",
            "nursery       object\n",
            "higher        object\n",
            "internet      object\n",
            "romantic      object\n",
            "famrel         int64\n",
            "freetime       int64\n",
            "goout          int64\n",
            "Dalc           int64\n",
            "Walc           int64\n",
            "health         int64\n",
            "absences       int64\n",
            "G1             int64\n",
            "G2             int64\n",
            "G3             int64\n",
            "dtype: object\n"
          ]
        }
      ]
    },
    {
      "cell_type": "code",
      "source": [
        "print(data.shape)"
      ],
      "metadata": {
        "colab": {
          "base_uri": "https://localhost:8080/"
        },
        "id": "jcYVmLo4BdIF",
        "outputId": "e1661dfa-59ee-44bf-caf9-1771e489ecff"
      },
      "execution_count": null,
      "outputs": [
        {
          "output_type": "stream",
          "name": "stdout",
          "text": [
            "(395, 33)\n"
          ]
        }
      ]
    },
    {
      "cell_type": "markdown",
      "source": [
        "The given Dataset contains 395 rows and 33 columns"
      ],
      "metadata": {
        "id": "X4FX-YatBs9S"
      }
    },
    {
      "cell_type": "markdown",
      "source": [
        "C.**DATA CLEANING**"
      ],
      "metadata": {
        "id": "7d7FIEbgB1fw"
      }
    },
    {
      "cell_type": "code",
      "source": [
        "data = data.fillna(data.median(numeric_only=True))"
      ],
      "metadata": {
        "id": "na90WY6pCK1J"
      },
      "execution_count": null,
      "outputs": []
    },
    {
      "cell_type": "code",
      "source": [
        "data = data.drop_duplicates()"
      ],
      "metadata": {
        "id": "CdlIHOneCQ2O"
      },
      "execution_count": null,
      "outputs": []
    },
    {
      "cell_type": "markdown",
      "source": [
        "d. **Data Analysis Questions**"
      ],
      "metadata": {
        "id": "YR_bQad2CalJ"
      }
    },
    {
      "cell_type": "markdown",
      "source": [
        "### 1. What is the average score in math (G3)?"
      ],
      "metadata": {
        "id": "9uhdB8sSCqgN"
      }
    },
    {
      "cell_type": "code",
      "source": [
        "average_G3 = data['G3'].mean()\n",
        "print(\"Average final grade (G3):\", average_G3)"
      ],
      "metadata": {
        "colab": {
          "base_uri": "https://localhost:8080/"
        },
        "id": "2svG3B8QCxgm",
        "outputId": "223e76ec-32ad-4fdb-ab37-69fb729c1fcf"
      },
      "execution_count": null,
      "outputs": [
        {
          "output_type": "stream",
          "name": "stdout",
          "text": [
            "Average final grade (G3): 10.415189873417722\n"
          ]
        }
      ]
    },
    {
      "cell_type": "markdown",
      "source": [
        "### 2. How many students scored above 15 in their final grade (G3)?"
      ],
      "metadata": {
        "id": "jhITEaCvDA3V"
      }
    },
    {
      "cell_type": "code",
      "source": [
        "above_15 = data[data['G3'] > 15].shape[0]\n",
        "print(\"Number of students with G3 > 15:\", above_15)"
      ],
      "metadata": {
        "colab": {
          "base_uri": "https://localhost:8080/"
        },
        "id": "vc7ld7o1DELO",
        "outputId": "7edbe865-190a-441e-c0af-069f2c4f90c7"
      },
      "execution_count": null,
      "outputs": [
        {
          "output_type": "stream",
          "name": "stdout",
          "text": [
            "Number of students with G3 > 15: 40\n"
          ]
        }
      ]
    },
    {
      "cell_type": "markdown",
      "source": [
        "### 3. Is there a correlation between study time (study time) and the final grade (G3)?"
      ],
      "metadata": {
        "id": "OV-LEdbRDerA"
      }
    },
    {
      "cell_type": "code",
      "source": [
        "correlation = data['studytime'].corr(data['G3'])\n",
        "print(\"Correlation between study time and G3:\", correlation)"
      ],
      "metadata": {
        "colab": {
          "base_uri": "https://localhost:8080/"
        },
        "id": "Uq3usQrkDiyK",
        "outputId": "6db39696-4382-44fe-cdfd-3dbc375a6f35"
      },
      "execution_count": null,
      "outputs": [
        {
          "output_type": "stream",
          "name": "stdout",
          "text": [
            "Correlation between study time and G3: 0.09781968965319626\n"
          ]
        }
      ]
    },
    {
      "cell_type": "markdown",
      "source": [
        "### 4. Which gender has a higher average final grade (G3)?"
      ],
      "metadata": {
        "id": "nPRdR3dyDtp-"
      }
    },
    {
      "cell_type": "code",
      "source": [
        "avg_by_gender = data.groupby('sex')['G3'].mean()\n",
        "print(\"Average G3 by gender:\\n\", avg_by_gender)"
      ],
      "metadata": {
        "colab": {
          "base_uri": "https://localhost:8080/"
        },
        "id": "c4sxr3IADw7I",
        "outputId": "1413b45e-945b-4b4e-ae07-2d3f86aa03b3"
      },
      "execution_count": null,
      "outputs": [
        {
          "output_type": "stream",
          "name": "stdout",
          "text": [
            "Average G3 by gender:\n",
            " sex\n",
            "F     9.966346\n",
            "M    10.914439\n",
            "Name: G3, dtype: float64\n"
          ]
        }
      ]
    },
    {
      "cell_type": "markdown",
      "source": [
        "e. **Data Visualisation**"
      ],
      "metadata": {
        "id": "g7pMDFeDD2HA"
      }
    },
    {
      "cell_type": "markdown",
      "source": [
        "## 1. Plot a histogram of final grades (G3)."
      ],
      "metadata": {
        "id": "QI7JM2GPEFlj"
      }
    },
    {
      "cell_type": "code",
      "source": [
        "plt.figure(figsize=(8, 5))\n",
        "sns.histplot(data['G3'], kde=True, bins=10, color='skyblue')\n",
        "plt.title('Histogram of Final Grades (G3)')\n",
        "plt.xlabel('Final Grade (G3)')\n",
        "plt.ylabel('Frequency')\n",
        "plt.show()"
      ],
      "metadata": {
        "colab": {
          "base_uri": "https://localhost:8080/",
          "height": 487
        },
        "id": "aj7cZDzVEII0",
        "outputId": "1c03127f-b841-435d-b1ab-2c4358740b9b"
      },
      "execution_count": null,
      "outputs": [
        {
          "output_type": "display_data",
          "data": {
            "text/plain": [
              "<Figure size 800x500 with 1 Axes>"
            ],
            "image/png": "[encoded data removed]"
          },
          "metadata": {}
        }
      ]
    },
    {
      "cell_type": "markdown",
      "source": [
        "Most students scored between 10 and 15, indicating a central tendency toward average performance.\n",
        "A few students scored very low (0–5) or very high (17–20).\n",
        "A peak around 11–12 suggests that these scores were the most common."
      ],
      "metadata": {
        "id": "54ZN2noDESAq"
      }
    },
    {
      "cell_type": "markdown",
      "source": [
        "### 2. Create a scatter plot between study time (study time) and final grade (G3)"
      ],
      "metadata": {
        "id": "6_7IN_3GEgD2"
      }
    },
    {
      "cell_type": "code",
      "source": [
        "plt.figure(figsize=(8, 5))\n",
        "sns.scatterplot(x='studytime', y='G3', data=data)\n",
        "plt.title('Study Time vs Final Grade')\n",
        "plt.xlabel('Study Time (hours per week)')\n",
        "plt.ylabel('Final Grade (G3)')\n",
        "plt.show()"
      ],
      "metadata": {
        "colab": {
          "base_uri": "https://localhost:8080/",
          "height": 487
        },
        "id": "2WfTMxvyEjL4",
        "outputId": "d5a4e9c4-c06f-44db-f995-612f0590d196"
      },
      "execution_count": null,
      "outputs": [
        {
          "output_type": "display_data",
          "data": {
            "text/plain": [
              "<Figure size 800x500 with 1 Axes>"
            ],
            "image/png": "[encoded data removed]"
          },
          "metadata": {}
        }
      ]
    },
    {
      "cell_type": "markdown",
      "source": [
        "The x-axis shows study time categorized from 1 to 4.\n",
        "The y-axis represents the final grade (G3), ranging from 0 to 20.\n",
        "Each point represents a student.\n",
        "Students who studied more (levels 3 and 4) tend to have higher final grades on average.\n",
        "Students who spent less time studying (levels 1 and 2) have a wider spread of grades, including lower scores.\n",
        "This suggests that increased study time may be associated with better performance."
      ],
      "metadata": {
        "id": "Q5am6ikOE0I3"
      }
    },
    {
      "cell_type": "markdown",
      "source": [
        "### 3. Create a bar chart comparing the average scores of male and female students."
      ],
      "metadata": {
        "id": "83qxfbxqE3kc"
      }
    },
    {
      "cell_type": "code",
      "source": [
        "plt.figure(figsize=(6, 4))\n",
        "sns.barplot(x='sex', y='G3', data=data, palette='pastel')\n",
        "plt.title('Average Final Grade by Gender')\n",
        "plt.xlabel('Gender')\n",
        "plt.ylabel('Average Final Grade (G3)')\n",
        "plt.show()"
      ],
      "metadata": {
        "colab": {
          "base_uri": "https://localhost:8080/",
          "height": 521
        },
        "id": "qaoNBtOrE_Is",
        "outputId": "6b136a6c-8d28-459d-9253-05bb9eabdcd3"
      },
      "execution_count": null,
      "outputs": [
        {
          "output_type": "stream",
          "name": "stderr",
          "text": [
            "<ipython-input-21-25bd3e55f729>:2: FutureWarning: \n",
            "\n",
            "Passing `palette` without assigning `hue` is deprecated and will be removed in v0.14.0. Assign the `x` variable to `hue` and set `legend=False` for the same effect.\n",
            "\n",
            "  sns.barplot(x='sex', y='G3', data=data, palette='pastel')\n"
          ]
        },
        {
          "output_type": "display_data",
          "data": {
            "text/plain": [
              "<Figure size 600x400 with 1 Axes>"
            ],
            "image/png": "[encoded data removed]"
          },
          "metadata": {}
        }
      ]
    },
    {
      "cell_type": "markdown",
      "source": [
        "The x-axis represents gender: F (Female) and M (Male).\n",
        "The y-axis shows the average final grade.\n",
        "Male students (M) have a slightly higher average final grade than female students (F)."
      ],
      "metadata": {
        "id": "z_uJBdsVFL_p"
      }
    },
    {
      "cell_type": "markdown",
      "source": [],
      "metadata": {
        "id": "x-UP8K-fFNd6"
      }
    },
    {
      "cell_type": "code",
      "source": [],
      "metadata": {
        "id": "tXTIn6vLEbKr"
      },
      "execution_count": null,
      "outputs": []
    },
    {
      "cell_type": "code",
      "source": [],
      "metadata": {
        "id": "n45GeTt0CmCX"
      },
      "execution_count": null,
      "outputs": []
    },
    {
      "cell_type": "code",
      "source": [],
      "metadata": {
        "id": "6JNJf-ZHEBZC"
      },
      "execution_count": null,
      "outputs": []
    },
    {
      "cell_type": "code",
      "source": [],
      "metadata": {
        "id": "2MugtiLXCWJE"
      },
      "execution_count": null,
      "outputs": []
    },
    {
      "cell_type": "code",
      "source": [],
      "metadata": {
        "id": "yI7Fzu1oBmXx"
      },
      "execution_count": null,
      "outputs": []
    }
  ]
}